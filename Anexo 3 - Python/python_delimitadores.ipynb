{
 "cells": [
  {
   "cell_type": "code",
   "execution_count": 5,
   "id": "9ea78ddd",
   "metadata": {},
   "outputs": [],
   "source": [
    "import csv\n",
    "\n",
    "# Set the input and output file paths\n",
    "input_file = 'propostas_credito.csv'\n",
    "output_file = 'propostas_creditopv.csv'\n",
    "\n",
    "# Open the input file for reading and the output file for writing\n",
    "with open(input_file, 'r') as f_in, open(output_file, 'w', newline='') as f_out:\n",
    "    # Create a CSV reader and writer, specifying the current delimiter and the new delimiter\n",
    "    reader = csv.reader(f_in, delimiter=',')\n",
    "    writer = csv.writer(f_out, delimiter=';')\n",
    "    \n",
    "    # Iterate through each row in the input file, convert the delimiter, and write to the output file\n",
    "    for row in reader:\n",
    "        writer.writerow(row)"
   ]
  },
  {
   "cell_type": "code",
   "execution_count": 6,
   "id": "f45341c5",
   "metadata": {},
   "outputs": [],
   "source": [
    "import csv\n",
    "\n",
    "# Set the input and output file paths\n",
    "input_file = 'propostas_creditopv.csv'\n",
    "output_file = 'propostas_creditopvv.csv'\n",
    "\n",
    "# Open the input file for reading and the output file for writing\n",
    "with open(input_file, 'r') as f_in, open(output_file, 'w', newline='') as f_out:\n",
    "    # Create a CSV reader and writer, specifying the current delimiter and the new delimiter\n",
    "    reader = csv.reader(f_in, delimiter='.')\n",
    "    writer = csv.writer(f_out, delimiter=',')\n",
    "    \n",
    "    # Iterate through each row in the input file, convert the delimiter, and write to the output file\n",
    "    for row in reader:\n",
    "        writer.writerow(row)"
   ]
  }
 ],
 "metadata": {
  "kernelspec": {
   "display_name": "Python 3 (ipykernel)",
   "language": "python",
   "name": "python3"
  },
  "language_info": {
   "codemirror_mode": {
    "name": "ipython",
    "version": 3
   },
   "file_extension": ".py",
   "mimetype": "text/x-python",
   "name": "python",
   "nbconvert_exporter": "python",
   "pygments_lexer": "ipython3",
   "version": "3.11.4"
  }
 },
 "nbformat": 4,
 "nbformat_minor": 5
}
